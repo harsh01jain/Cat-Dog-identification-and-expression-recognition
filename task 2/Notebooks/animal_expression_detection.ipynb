{
 "cells": [
  {
   "cell_type": "code",
   "execution_count": 13,
   "id": "96e79e23-390f-4ec8-a7ca-a8f355b51970",
   "metadata": {},
   "outputs": [
    {
     "name": "stdout",
     "output_type": "stream",
     "text": [
      "WARNING:tensorflow:From C:\\Users\\Harsh\\AppData\\Local\\Packages\\PythonSoftwareFoundation.Python.3.11_qbz5n2kfra8p0\\LocalCache\\local-packages\\Python311\\site-packages\\keras\\src\\losses.py:2976: The name tf.losses.sparse_softmax_cross_entropy is deprecated. Please use tf.compat.v1.losses.sparse_softmax_cross_entropy instead.\n",
      "\n",
      "Tensorlfow Version:  2.15.0\n"
     ]
    }
   ],
   "source": [
    "# import the necessary packages\n",
    "from tensorflow.keras.models import Sequential\n",
    "from tensorflow.keras import backend as K\n",
    "from tensorflow.keras.preprocessing.image import ImageDataGenerator\n",
    "from tensorflow.keras.optimizers import Adam\n",
    "from tensorflow.keras.preprocessing.image import img_to_array\n",
    "from tensorflow.keras.utils import to_categorical\n",
    "from tensorflow.keras.applications import VGG16,VGG19,ResNet50\n",
    "from tensorflow.keras.layers import Dropout\n",
    "from tensorflow.keras.layers import Flatten\n",
    "from tensorflow.keras.layers import Dense\n",
    "from tensorflow.keras.layers import Input\n",
    "from tensorflow.keras.models import Model\n",
    "from tensorflow.keras.regularizers import l2\n",
    "from tensorflow.keras.layers import LeakyReLU\n",
    "from tensorflow.keras.optimizers import SGD\n",
    "from sklearn.metrics import classification_report\n",
    "from sklearn.model_selection import train_test_split\n",
    "\n",
    "from imutils import paths\n",
    "import matplotlib.pyplot as plt\n",
    "import numpy as np\n",
    "import argparse\n",
    "import random\n",
    "import cv2\n",
    "import os\n",
    "\n",
    "import warnings\n",
    "from tqdm import tqdm_notebook as tqdm\n",
    "import itertools\n",
    "import tensorflow as tf\n",
    "\n",
    "print(\"Tensorlfow Version: \", tf.__version__)\n",
    "warnings.filterwarnings(\"ignore\")\n",
    "SEED = 42   # set random seed"
   ]
  },
  {
   "cell_type": "code",
   "execution_count": 14,
   "id": "8ad8c193-000a-43c4-834d-1ebf3f8552db",
   "metadata": {},
   "outputs": [
    {
     "name": "stdout",
     "output_type": "stream",
     "text": [
      "Train path: C:\\Users\\Harsh\\Downloads\\data_science01\\dl_projects\\task 2\\DATA\\animal_expression_detection\\Master Folder\\train\n",
      "Test path: C:\\Users\\Harsh\\Downloads\\data_science01\\dl_projects\\task 2\\DATA\\animal_expression_detection\\Master Folder\\test\n",
      "Valid path: C:\\Users\\Harsh\\Downloads\\data_science01\\dl_projects\\task 2\\DATA\\animal_expression_detection\\Master Folder\\valid\n"
     ]
    }
   ],
   "source": [
    "import os\n",
    "\n",
    "cwd = os.getcwd()\n",
    "base_dir = os.path.abspath(os.path.join(cwd, '..'))\n",
    "data_dir = os.path.join(base_dir, 'DATA', 'animal_expression_detection', 'Master Folder')\n",
    "trainpath = os.path.join(data_dir, 'train')\n",
    "testpath = os.path.join(data_dir, 'test')\n",
    "validpath = os.path.join(data_dir, 'valid')\n",
    "\n",
    "print(f\"Train path: {trainpath}\")\n",
    "print(f\"Test path: {testpath}\")\n",
    "print(f\"Valid path: {validpath}\")\n"
   ]
  },
  {
   "cell_type": "code",
   "execution_count": 15,
   "id": "a2e4ba45-40eb-4026-8a25-47f4b6e37693",
   "metadata": {},
   "outputs": [
    {
     "name": "stdout",
     "output_type": "stream",
     "text": [
      "[INFO] loading images...\n"
     ]
    },
    {
     "data": {
      "application/vnd.jupyter.widget-view+json": {
       "model_id": "bf1ca77ceb6946499f38b72e06d22a61",
       "version_major": 2,
       "version_minor": 0
      },
      "text/plain": [
       "  0%|          | 0/1000 [00:00<?, ?it/s]"
      ]
     },
     "metadata": {},
     "output_type": "display_data"
    }
   ],
   "source": [
    "# initialize the data and labels\n",
    "print(\"[INFO] loading images...\")\n",
    "data = []\n",
    "labels = []\n",
    "\n",
    "# grab the image paths and randomly shuffle them\n",
    "imagePaths = sorted(list(paths.list_images(trainpath)))\n",
    "random.seed(42)\n",
    "random.shuffle(imagePaths)\n",
    "\n",
    "# progress bar \n",
    "with tqdm(total=len(imagePaths)) as pbar:\n",
    "    \n",
    "    # loop over the input images\n",
    "    for idx, imagePath in enumerate(imagePaths):\n",
    "        # load the image, pre-process it, and store it in the data list\n",
    "        image = cv2.imread(imagePath)\n",
    "        image = cv2.resize(image, (48, 48))\n",
    "        image = img_to_array(image)\n",
    "        data.append(image)\n",
    "\n",
    "        # extract the class label from the image path and update the\n",
    "        # labels list\n",
    "        label = imagePath.split(os.path.sep)[-2]\n",
    "\n",
    "        if label == \"happy\":\n",
    "            label = 0\n",
    "        elif label == \"Sad\":\n",
    "            label = 1\n",
    "        elif label == \"Angry\":\n",
    "            label = 2\n",
    "        elif label == \"Other\":\n",
    "            label = 3\n",
    "\n",
    "        # print(\"pr: \", label)\t\n",
    "\n",
    "        labels.append(label)\n",
    "        \n",
    "        # update the progressbar\n",
    "        pbar.update(1)"
   ]
  },
  {
   "cell_type": "code",
   "execution_count": 16,
   "id": "937ef071-f6a9-4d41-a08a-11d19b813751",
   "metadata": {},
   "outputs": [],
   "source": [
    "data = np.array(data, dtype=\"float\") / 255.0\n",
    "labels = np.array(labels)"
   ]
  },
  {
   "cell_type": "code",
   "execution_count": 17,
   "id": "f773a319-7742-4f31-af92-076f6abe405f",
   "metadata": {},
   "outputs": [],
   "source": [
    "(trainX, testX, trainY, testY) = train_test_split(data,labels, test_size=0.25, random_state=42)"
   ]
  },
  {
   "cell_type": "code",
   "execution_count": 18,
   "id": "38b0fec7-ce47-4c11-8719-5b40eef67611",
   "metadata": {},
   "outputs": [
    {
     "data": {
      "text/plain": [
       "array([0, 1, 0, 0, 2, 3, 2, 0, 3, 1, 2, 0, 3, 1, 1, 1, 0, 2, 1, 3, 3, 0,\n",
       "       3, 3, 1, 3, 1, 1, 3, 0, 1, 0, 0, 3, 0, 3, 1, 1, 2, 3, 2, 3, 0, 2,\n",
       "       3, 0, 2, 2, 1, 2, 3, 0, 2, 2, 3, 1, 1, 0, 2, 1, 1, 3, 1, 3, 3, 0,\n",
       "       3, 2, 2, 2, 2, 3, 3, 2, 1, 0, 1, 0, 2, 0, 0, 1, 2, 0, 2, 0, 0, 3,\n",
       "       1, 2, 1, 2, 3, 1, 2, 0, 3, 1, 3, 0, 1, 3, 0, 0, 1, 0, 0, 1, 3, 1,\n",
       "       0, 2, 3, 2, 3, 0, 3, 1, 2, 2, 1, 3, 1, 2, 1, 3, 0, 1, 0, 1, 0, 0,\n",
       "       0, 3, 1, 0, 2, 2, 3, 0, 0, 0, 0, 3, 1, 3, 3, 3, 3, 1, 1, 0, 3, 1,\n",
       "       1, 3, 2, 3, 1, 1, 1, 2, 1, 3, 0, 1, 3, 0, 3, 2, 0, 3, 3, 3, 1, 0,\n",
       "       1, 2, 1, 0, 3, 3, 2, 2, 3, 3, 0, 0, 0, 3, 2, 2, 3, 3, 3, 1, 1, 2,\n",
       "       2, 3, 0, 2, 2, 3, 0, 2, 0, 2, 0, 3, 0, 1, 0, 2, 1, 0, 1, 1, 0, 3,\n",
       "       2, 3, 2, 2, 0, 2, 1, 2, 0, 1, 2, 0, 1, 3, 1, 2, 0, 1, 1, 2, 1, 0,\n",
       "       1, 1, 2, 2, 2, 3, 2, 2, 2, 3, 3, 3, 2, 1, 3, 1, 0, 2, 0, 1, 0, 3,\n",
       "       3, 0, 2, 1, 0, 1, 3, 2, 2, 3, 2, 2, 1, 2, 3, 3, 3, 1, 3, 3, 2, 0,\n",
       "       3, 3, 0, 0, 1, 2, 1, 1, 3, 0, 2, 2, 3, 1, 2, 1, 3, 3, 3, 0, 3, 1,\n",
       "       3, 2, 1, 1, 1, 1, 2, 0, 1, 0, 2, 3, 3, 0, 0, 2, 1, 3, 1, 3, 0, 3,\n",
       "       2, 2, 0, 3, 0, 0, 3, 1, 3, 3, 3, 2, 3, 3, 1, 1, 3, 2, 1, 0, 0, 1,\n",
       "       1, 2, 3, 2, 0, 0, 2, 1, 0, 3, 3, 2, 3, 0, 0, 3, 0, 1, 3, 0, 2, 0,\n",
       "       2, 0, 0, 2, 2, 0, 0, 2, 2, 3, 0, 2, 3, 2, 2, 3, 3, 0, 3, 2, 2, 1,\n",
       "       2, 3, 1, 0, 0, 3, 3, 2, 0, 2, 3, 1, 0, 3, 3, 2, 0, 2, 3, 3, 2, 2,\n",
       "       1, 0, 0, 3, 0, 1, 0, 1, 1, 1, 1, 1, 3, 2, 0, 1, 1, 1, 3, 2, 0, 2,\n",
       "       3, 3, 1, 1, 3, 1, 0, 0, 2, 1, 3, 3, 0, 3, 1, 3, 1, 3, 0, 0, 1, 2,\n",
       "       1, 2, 3, 3, 2, 1, 3, 3, 0, 2, 3, 1, 2, 1, 0, 0, 0, 0, 3, 2, 0, 3,\n",
       "       1, 2, 3, 0, 0, 3, 1, 1, 3, 3, 2, 1, 3, 3, 2, 3, 0, 1, 1, 2, 3, 2,\n",
       "       1, 2, 3, 3, 0, 3, 3, 3, 2, 2, 3, 2, 3, 2, 0, 0, 0, 3, 3, 2, 0, 3,\n",
       "       2, 0, 0, 1, 1, 1, 2, 0, 1, 3, 1, 0, 3, 2, 2, 3, 2, 1, 2, 2, 1, 0,\n",
       "       1, 3, 3, 0, 3, 2, 3, 0, 2, 3, 1, 0, 2, 0, 0, 0, 1, 2, 3, 2, 3, 3,\n",
       "       0, 0, 2, 2, 0, 2, 2, 3, 0, 2, 0, 3, 1, 1, 1, 3, 3, 0, 1, 3, 1, 1,\n",
       "       1, 1, 1, 2, 2, 1, 0, 2, 2, 0, 3, 3, 2, 0, 0, 2, 1, 2, 3, 0, 1, 1,\n",
       "       0, 0, 2, 2, 1, 1, 0, 1, 2, 3, 2, 1, 1, 0, 2, 2, 1, 0, 0, 0, 1, 3,\n",
       "       0, 1, 2, 3, 1, 1, 1, 0, 2, 3, 1, 2, 3, 1, 0, 3, 3, 0, 3, 2, 0, 2,\n",
       "       1, 0, 2, 3, 1, 0, 2, 2, 0, 2, 1, 1, 2, 0, 1, 3, 2, 3, 0, 1, 2, 0,\n",
       "       2, 0, 0, 1, 0, 3, 2, 3, 3, 2, 2, 1, 1, 1, 2, 3, 3, 0, 3, 3, 1, 0,\n",
       "       2, 2, 3, 1, 2, 3, 1, 1, 2, 0, 2, 0, 1, 3, 2, 1, 1, 3, 0, 2, 0, 2,\n",
       "       1, 1, 2, 2, 0, 1, 2, 1, 1, 2, 3, 0, 2, 3, 2, 3, 1, 3, 0, 0, 1, 0,\n",
       "       3, 1, 2, 1, 0, 0, 0, 3, 1, 1, 0, 2, 1, 3, 1, 2, 2, 1, 2, 3, 1, 2,\n",
       "       0, 0, 2, 2, 2, 3, 3, 0, 2, 1, 3, 1, 2, 1, 1, 2, 0, 3, 0, 0, 0, 0,\n",
       "       0, 3, 1, 2, 1, 2, 0, 1, 0, 1, 1, 2, 0, 2, 3, 0, 0, 0, 1, 0, 0, 0,\n",
       "       0, 1, 2, 1, 0, 2, 1, 3, 1, 3, 0, 3, 3, 2, 1, 0, 1, 0, 0, 1, 2, 2,\n",
       "       2, 0, 2, 1, 1, 2, 0, 0, 3, 1, 3, 1, 0, 3, 1, 0, 0, 3, 0, 3, 2, 3,\n",
       "       1, 3, 1, 1, 2, 3, 1, 1, 2, 2, 3, 3, 3, 0, 0, 0, 2, 2, 0, 0, 0, 3,\n",
       "       1, 2, 1, 1, 1, 3, 3, 3, 2, 0, 1, 1, 2, 0, 1, 2, 1, 1, 0, 3, 1, 2,\n",
       "       3, 3, 2, 3, 0, 1, 3, 0, 0, 2, 0, 0, 0, 2, 3, 0, 2, 1, 2, 2, 1, 2,\n",
       "       1, 3, 0, 0, 1, 1, 0, 3, 1, 2, 3, 2, 1, 3, 1, 2, 0, 3, 1, 3, 0, 3,\n",
       "       2, 3, 2, 0, 3, 0, 2, 2, 0, 3, 0, 1, 2, 0, 0, 2, 0, 0, 3, 1, 3, 2,\n",
       "       3, 0, 1, 1, 1, 2, 1, 2, 1, 1, 2, 2, 2, 2, 2, 3, 1, 2, 1, 0, 0, 1,\n",
       "       2, 0, 2, 2, 3, 3, 0, 2, 2, 1])"
      ]
     },
     "execution_count": 18,
     "metadata": {},
     "output_type": "execute_result"
    }
   ],
   "source": [
    "labels"
   ]
  },
  {
   "cell_type": "code",
   "execution_count": 19,
   "id": "6ab51395-d054-44c1-9785-0b005b774f19",
   "metadata": {},
   "outputs": [],
   "source": [
    "# construct the image generator for data augmentation\n",
    "aug = ImageDataGenerator(rotation_range=30, \n",
    "                         width_shift_range=0.1, \n",
    "                         height_shift_range=0.1, \n",
    "                         shear_range=0.2, \n",
    "                         zoom_range=0.2, \n",
    "                         horizontal_flip=True, \n",
    "                         fill_mode=\"nearest\")"
   ]
  },
  {
   "cell_type": "code",
   "execution_count": 20,
   "id": "ae8c7448-ea1e-436c-bd90-a3aba9e0660c",
   "metadata": {},
   "outputs": [
    {
     "name": "stdout",
     "output_type": "stream",
     "text": [
      "(250, 48, 48, 3)\n"
     ]
    }
   ],
   "source": [
    "testX = np.array(testX)\n",
    "print(testX.shape)"
   ]
  },
  {
   "cell_type": "code",
   "execution_count": 21,
   "id": "8c8a79eb-5e00-4f54-828a-3ddfb5ae6d5b",
   "metadata": {},
   "outputs": [
    {
     "name": "stdout",
     "output_type": "stream",
     "text": [
      "(750, 48, 48, 3)\n"
     ]
    }
   ],
   "source": [
    "trainX = np.array(trainX)\n",
    "print(trainX.shape)"
   ]
  },
  {
   "cell_type": "code",
   "execution_count": 10,
   "id": "3c11ed77-69ce-4f65-9fb9-4d9259b3ceb6",
   "metadata": {},
   "outputs": [],
   "source": [
    "trainY = to_categorical(trainY, num_classes=4)\n",
    "testY = to_categorical(testY, num_classes=4)"
   ]
  },
  {
   "cell_type": "code",
   "execution_count": 11,
   "id": "e77bc925-318b-495d-a301-a9d3f1a0113f",
   "metadata": {},
   "outputs": [],
   "source": [
    "def plot_acc(H, N, plotPath=None):\n",
    "    # construct a plot that plots and saves the training history\n",
    "    plt.style.use(\"ggplot\")\n",
    "    plt.figure()\n",
    "    plt.plot(np.arange(0, N), H.history[\"accuracy\"], label=\"train_acc\")\n",
    "    plt.plot(np.arange(0, N), H.history[\"val_accuracy\"], label=\"val_acc\")\n",
    "    plt.title(\"Training Accuracy\")\n",
    "    plt.xlabel(\"Epoch #\")\n",
    "    plt.ylabel(\"Accuracy\")\n",
    "    plt.legend(loc=\"lower left\")\n",
    "    plt.savefig(\"acc_output.png\")\n",
    "\n",
    "def plot_loss(H, N, plotPath=None):\n",
    "    # construct a plot that plots and saves the training history\n",
    "    plt.style.use(\"ggplot\")\n",
    "    plt.figure()\n",
    "    plt.plot(np.arange(0, N), H.history[\"loss\"], label=\"train_loss\")\n",
    "    plt.plot(np.arange(0, N), H.history[\"val_loss\"], label=\"val_loss\")\n",
    "\n",
    "    plt.title(\"Training Loss\")\n",
    "    plt.xlabel(\"Epoch #\")\n",
    "    plt.ylabel(\"Loss\")\n",
    "    plt.legend(loc=\"lower left\")\n",
    "    plt.savefig(\"loss_output.png\")"
   ]
  },
  {
   "cell_type": "code",
   "execution_count": null,
   "id": "1ededf0c-5f12-477e-974b-c61cd1170334",
   "metadata": {},
   "outputs": [],
   "source": []
  },
  {
   "cell_type": "code",
   "execution_count": 12,
   "id": "3a18ddc4-53a0-4e00-97e7-35f2b9554b85",
   "metadata": {},
   "outputs": [
    {
     "name": "stdout",
     "output_type": "stream",
     "text": [
      "Tensorlfow Version:  2.15.0\n"
     ]
    }
   ],
   "source": [
    "from tensorflow.keras.models import Sequential\n",
    "from tensorflow.keras import backend as K\n",
    "from tensorflow.keras.preprocessing.image import ImageDataGenerator\n",
    "from tensorflow.keras.optimizers import Adam\n",
    "from tensorflow.keras.preprocessing.image import img_to_array\n",
    "from tensorflow.keras.utils import to_categorical\n",
    "from keras.callbacks import EarlyStopping\n",
    "from tensorflow.keras.layers import Dropout\n",
    "from tensorflow.keras.layers import Flatten\n",
    "from tensorflow.keras.layers import Dense\n",
    "from tensorflow.keras.layers import Input\n",
    "from tensorflow.keras.models import Model\n",
    "from tensorflow.keras.optimizers import SGD\n",
    "from tensorflow.keras.models import Sequential\n",
    "from tensorflow.keras.layers import Conv2D, Activation, MaxPooling2D, Flatten, Dense\n",
    "from tensorflow.keras.optimizers import Adam\n",
    "from tensorflow.keras.layers import LeakyReLU\n",
    "\n",
    "\n",
    "from sklearn.metrics import classification_report\n",
    "from sklearn.model_selection import train_test_split\n",
    "\n",
    "from imutils import paths\n",
    "import matplotlib.pyplot as plt\n",
    "import numpy as np\n",
    "import argparse\n",
    "import random\n",
    "import cv2\n",
    "import os\n",
    "\n",
    "import warnings\n",
    "from tqdm import tqdm_notebook as tqdm\n",
    "import itertools\n",
    "import tensorflow as tf\n",
    "\n",
    "print(\"Tensorlfow Version: \", tf.__version__)\n",
    "warnings.filterwarnings(\"ignore\")\n",
    "SEED = 43   # set random seed"
   ]
  },
  {
   "cell_type": "code",
   "execution_count": 13,
   "id": "9359d7af-f979-4219-b038-739a7e3eaeb0",
   "metadata": {},
   "outputs": [],
   "source": [
    "class LeNet:\n",
    "    @staticmethod\n",
    "    def build(width, height, depth, classes):\n",
    "        # initialize the model\n",
    "        model = Sequential()\n",
    "        inputShape = (height, width, depth)  # (h, h, channel)\n",
    "\n",
    "        # if we are using \"channels first\", update the input shape\n",
    "        if K.image_data_format() == \"channels_first\":\n",
    "            inputShape = (depth, height, width)\n",
    "\n",
    "        # first set of CONV => LeakyReLU => POOL layers\n",
    "        model.add(Conv2D(20, (4,4), padding=\"same\", input_shape=inputShape))\n",
    "        model.add(LeakyReLU(alpha=0.1))\n",
    "        model.add(MaxPooling2D(pool_size=(2, 2), strides=(2, 2)))\n",
    "\n",
    "        # second set of CONV => LeakyReLU => POOL layers\n",
    "        model.add(Conv2D(50, (4,4), padding=\"same\"))\n",
    "        model.add(LeakyReLU(alpha=0.1))\n",
    "        model.add(MaxPooling2D(pool_size=(2, 2), strides=(2, 2)))\n",
    "\n",
    "        # third set of CONV => LeakyReLU => POOL layers\n",
    "        model.add(Conv2D(100, (4,4), padding=\"same\"))\n",
    "        model.add(LeakyReLU(alpha=0.1))\n",
    "        model.add(MaxPooling2D(pool_size=(2, 2), strides=(2, 2)))\n",
    "\n",
    "        # first (and only) set of FC => LeakyReLU layers\n",
    "        model.add(Flatten())\n",
    "        model.add(Dense(200))\n",
    "        model.add(LeakyReLU(alpha=0.1))\n",
    "\n",
    "        # softmax classifier\n",
    "        model.add(Dense(classes))\n",
    "        model.add(Activation(\"softmax\"))\n",
    "\n",
    "        # return the constructed network architecture\n",
    "        return model"
   ]
  },
  {
   "cell_type": "code",
   "execution_count": 14,
   "id": "3c53352c-0f35-4d46-996b-8e042614b10a",
   "metadata": {},
   "outputs": [
    {
     "name": "stdout",
     "output_type": "stream",
     "text": [
      "[INFO] compiling model...\n",
      "WARNING:tensorflow:From C:\\Users\\Harsh\\AppData\\Local\\Packages\\PythonSoftwareFoundation.Python.3.11_qbz5n2kfra8p0\\LocalCache\\local-packages\\Python311\\site-packages\\keras\\src\\backend.py:873: The name tf.get_default_graph is deprecated. Please use tf.compat.v1.get_default_graph instead.\n",
      "\n",
      "WARNING:tensorflow:From C:\\Users\\Harsh\\AppData\\Local\\Packages\\PythonSoftwareFoundation.Python.3.11_qbz5n2kfra8p0\\LocalCache\\local-packages\\Python311\\site-packages\\keras\\src\\layers\\pooling\\max_pooling2d.py:161: The name tf.nn.max_pool is deprecated. Please use tf.nn.max_pool2d instead.\n",
      "\n",
      "[INFO] model complied...\n"
     ]
    }
   ],
   "source": [
    "# initialize the model\n",
    "print(\"[INFO] compiling model...\")\n",
    "model = LeNet.build(width=48, height=48, depth=3, classes=4)\n",
    "opt = Adam(learning_rate=1e-3)\n",
    "\n",
    "model.compile(loss=\"categorical_crossentropy\", optimizer=opt, metrics=[\"accuracy\"])\n",
    "\n",
    "print(\"[INFO] model complied...\")\n"
   ]
  },
  {
   "cell_type": "code",
   "execution_count": 15,
   "id": "61a0ffbf-fb6f-4eea-ac0d-2a8d42535ae0",
   "metadata": {},
   "outputs": [
    {
     "name": "stdout",
     "output_type": "stream",
     "text": [
      "[INFO] training network...\n",
      "Epoch 1/100\n",
      "WARNING:tensorflow:From C:\\Users\\Harsh\\AppData\\Local\\Packages\\PythonSoftwareFoundation.Python.3.11_qbz5n2kfra8p0\\LocalCache\\local-packages\\Python311\\site-packages\\keras\\src\\utils\\tf_utils.py:492: The name tf.ragged.RaggedTensorValue is deprecated. Please use tf.compat.v1.ragged.RaggedTensorValue instead.\n",
      "\n",
      "WARNING:tensorflow:From C:\\Users\\Harsh\\AppData\\Local\\Packages\\PythonSoftwareFoundation.Python.3.11_qbz5n2kfra8p0\\LocalCache\\local-packages\\Python311\\site-packages\\keras\\src\\engine\\base_layer_utils.py:384: The name tf.executing_eagerly_outside_functions is deprecated. Please use tf.compat.v1.executing_eagerly_outside_functions instead.\n",
      "\n",
      "11/11 [==============================] - 3s 113ms/step - loss: 1.4108 - accuracy: 0.2493 - val_loss: 1.3841 - val_accuracy: 0.2680\n",
      "Epoch 2/100\n",
      "11/11 [==============================] - 1s 75ms/step - loss: 1.3794 - accuracy: 0.2872 - val_loss: 1.3875 - val_accuracy: 0.2320\n",
      "Epoch 3/100\n",
      "11/11 [==============================] - 1s 65ms/step - loss: 1.3725 - accuracy: 0.2857 - val_loss: 1.3746 - val_accuracy: 0.2880\n",
      "Epoch 4/100\n",
      "11/11 [==============================] - 1s 78ms/step - loss: 1.3593 - accuracy: 0.3324 - val_loss: 1.3705 - val_accuracy: 0.2840\n",
      "Epoch 5/100\n",
      "11/11 [==============================] - 1s 80ms/step - loss: 1.3453 - accuracy: 0.3236 - val_loss: 1.3609 - val_accuracy: 0.2800\n",
      "Epoch 6/100\n",
      "11/11 [==============================] - 1s 79ms/step - loss: 1.3185 - accuracy: 0.3630 - val_loss: 1.3374 - val_accuracy: 0.3240\n",
      "Epoch 7/100\n",
      "11/11 [==============================] - 1s 72ms/step - loss: 1.3134 - accuracy: 0.3469 - val_loss: 1.3277 - val_accuracy: 0.3440\n",
      "Epoch 8/100\n",
      "11/11 [==============================] - 1s 75ms/step - loss: 1.3194 - accuracy: 0.3644 - val_loss: 1.3220 - val_accuracy: 0.3880\n",
      "Epoch 9/100\n",
      "11/11 [==============================] - 1s 71ms/step - loss: 1.3018 - accuracy: 0.3950 - val_loss: 1.3463 - val_accuracy: 0.3200\n",
      "Epoch 10/100\n",
      "11/11 [==============================] - 1s 67ms/step - loss: 1.2789 - accuracy: 0.4082 - val_loss: 1.2907 - val_accuracy: 0.3560\n",
      "Epoch 11/100\n",
      "11/11 [==============================] - 1s 71ms/step - loss: 1.2628 - accuracy: 0.4257 - val_loss: 1.2835 - val_accuracy: 0.3920\n",
      "Epoch 12/100\n",
      "11/11 [==============================] - 1s 70ms/step - loss: 1.2565 - accuracy: 0.4111 - val_loss: 1.2802 - val_accuracy: 0.3440\n",
      "Epoch 13/100\n",
      "11/11 [==============================] - 1s 71ms/step - loss: 1.2481 - accuracy: 0.4257 - val_loss: 1.2623 - val_accuracy: 0.4160\n",
      "Epoch 14/100\n",
      "11/11 [==============================] - 1s 69ms/step - loss: 1.2162 - accuracy: 0.4431 - val_loss: 1.2345 - val_accuracy: 0.4600\n",
      "Epoch 15/100\n",
      "11/11 [==============================] - 1s 69ms/step - loss: 1.2157 - accuracy: 0.4519 - val_loss: 1.2483 - val_accuracy: 0.4240\n",
      "Epoch 16/100\n",
      "11/11 [==============================] - 1s 67ms/step - loss: 1.2099 - accuracy: 0.4673 - val_loss: 1.2317 - val_accuracy: 0.4240\n",
      "Epoch 17/100\n",
      "11/11 [==============================] - 1s 71ms/step - loss: 1.1504 - accuracy: 0.4913 - val_loss: 1.1932 - val_accuracy: 0.4480\n",
      "Epoch 18/100\n",
      "11/11 [==============================] - 1s 70ms/step - loss: 1.1772 - accuracy: 0.4781 - val_loss: 1.2307 - val_accuracy: 0.4400\n",
      "Epoch 19/100\n",
      "11/11 [==============================] - 1s 69ms/step - loss: 1.1334 - accuracy: 0.5015 - val_loss: 1.1797 - val_accuracy: 0.4600\n",
      "Epoch 20/100\n",
      "11/11 [==============================] - 1s 73ms/step - loss: 1.0939 - accuracy: 0.5175 - val_loss: 1.1645 - val_accuracy: 0.4840\n",
      "Epoch 21/100\n",
      "11/11 [==============================] - 1s 70ms/step - loss: 1.1231 - accuracy: 0.5058 - val_loss: 1.1688 - val_accuracy: 0.4640\n",
      "Epoch 22/100\n",
      "11/11 [==============================] - 1s 70ms/step - loss: 1.0973 - accuracy: 0.5087 - val_loss: 1.1692 - val_accuracy: 0.4920\n",
      "Epoch 23/100\n",
      "11/11 [==============================] - 1s 64ms/step - loss: 1.0712 - accuracy: 0.5277 - val_loss: 1.1950 - val_accuracy: 0.4800\n",
      "Epoch 24/100\n",
      "11/11 [==============================] - 1s 73ms/step - loss: 1.0298 - accuracy: 0.5569 - val_loss: 1.1683 - val_accuracy: 0.5040\n",
      "Epoch 25/100\n",
      "11/11 [==============================] - 1s 68ms/step - loss: 1.0419 - accuracy: 0.5671 - val_loss: 1.1015 - val_accuracy: 0.5160\n",
      "Epoch 26/100\n",
      "11/11 [==============================] - 1s 76ms/step - loss: 1.0394 - accuracy: 0.5321 - val_loss: 1.0883 - val_accuracy: 0.5280\n",
      "Epoch 27/100\n",
      "11/11 [==============================] - 1s 73ms/step - loss: 0.9873 - accuracy: 0.5816 - val_loss: 1.0841 - val_accuracy: 0.5440\n",
      "Epoch 28/100\n",
      "11/11 [==============================] - 1s 72ms/step - loss: 0.9847 - accuracy: 0.5700 - val_loss: 1.0774 - val_accuracy: 0.5560\n",
      "Epoch 29/100\n",
      "11/11 [==============================] - 1s 75ms/step - loss: 0.9668 - accuracy: 0.6079 - val_loss: 1.2343 - val_accuracy: 0.5160\n",
      "Epoch 30/100\n",
      "11/11 [==============================] - 1s 66ms/step - loss: 0.9797 - accuracy: 0.5977 - val_loss: 0.9991 - val_accuracy: 0.5880\n",
      "Epoch 31/100\n",
      "11/11 [==============================] - 1s 74ms/step - loss: 0.9309 - accuracy: 0.6035 - val_loss: 1.0079 - val_accuracy: 0.5400\n",
      "Epoch 32/100\n",
      "11/11 [==============================] - 1s 69ms/step - loss: 0.8502 - accuracy: 0.6399 - val_loss: 1.0314 - val_accuracy: 0.5760\n",
      "Epoch 33/100\n",
      "11/11 [==============================] - 1s 67ms/step - loss: 0.8865 - accuracy: 0.6385 - val_loss: 0.9699 - val_accuracy: 0.5920\n",
      "Epoch 34/100\n",
      "11/11 [==============================] - 1s 71ms/step - loss: 0.8153 - accuracy: 0.6706 - val_loss: 0.9886 - val_accuracy: 0.6040\n",
      "Epoch 35/100\n",
      "11/11 [==============================] - 1s 74ms/step - loss: 0.8220 - accuracy: 0.6778 - val_loss: 1.1510 - val_accuracy: 0.5560\n",
      "Epoch 36/100\n",
      "11/11 [==============================] - 1s 68ms/step - loss: 0.7756 - accuracy: 0.6968 - val_loss: 0.9745 - val_accuracy: 0.6080\n",
      "Epoch 37/100\n",
      "11/11 [==============================] - 1s 76ms/step - loss: 0.7633 - accuracy: 0.6924 - val_loss: 0.9966 - val_accuracy: 0.6280\n",
      "Epoch 38/100\n",
      "11/11 [==============================] - 1s 79ms/step - loss: 0.7978 - accuracy: 0.6822 - val_loss: 0.9964 - val_accuracy: 0.6080\n",
      "Epoch 39/100\n",
      "11/11 [==============================] - 1s 71ms/step - loss: 0.7304 - accuracy: 0.7099 - val_loss: 0.9496 - val_accuracy: 0.6160\n",
      "Epoch 40/100\n",
      "11/11 [==============================] - 1s 71ms/step - loss: 0.7115 - accuracy: 0.7318 - val_loss: 0.9155 - val_accuracy: 0.6360\n",
      "Epoch 41/100\n",
      "11/11 [==============================] - 1s 69ms/step - loss: 0.7395 - accuracy: 0.7099 - val_loss: 1.0038 - val_accuracy: 0.5880\n",
      "Epoch 42/100\n",
      "11/11 [==============================] - 1s 68ms/step - loss: 0.6936 - accuracy: 0.7041 - val_loss: 0.8473 - val_accuracy: 0.6440\n",
      "Epoch 43/100\n",
      "11/11 [==============================] - 1s 74ms/step - loss: 0.6865 - accuracy: 0.7318 - val_loss: 0.8913 - val_accuracy: 0.6760\n",
      "Epoch 44/100\n",
      "11/11 [==============================] - 1s 68ms/step - loss: 0.6407 - accuracy: 0.7566 - val_loss: 0.9402 - val_accuracy: 0.6360\n",
      "Epoch 45/100\n",
      "11/11 [==============================] - 1s 72ms/step - loss: 0.6524 - accuracy: 0.7551 - val_loss: 0.8988 - val_accuracy: 0.6680\n",
      "Epoch 46/100\n",
      "11/11 [==============================] - 1s 67ms/step - loss: 0.6005 - accuracy: 0.7668 - val_loss: 0.8852 - val_accuracy: 0.6400\n",
      "Epoch 47/100\n",
      "11/11 [==============================] - 1s 67ms/step - loss: 0.5666 - accuracy: 0.7741 - val_loss: 0.8315 - val_accuracy: 0.7120\n",
      "Epoch 48/100\n",
      "11/11 [==============================] - 1s 73ms/step - loss: 0.5096 - accuracy: 0.8149 - val_loss: 0.7303 - val_accuracy: 0.7520\n",
      "Epoch 49/100\n",
      "11/11 [==============================] - 1s 67ms/step - loss: 0.5701 - accuracy: 0.7755 - val_loss: 0.8409 - val_accuracy: 0.6960\n",
      "Epoch 50/100\n",
      "11/11 [==============================] - 1s 70ms/step - loss: 0.5474 - accuracy: 0.8003 - val_loss: 0.7881 - val_accuracy: 0.7400\n",
      "Epoch 51/100\n",
      "11/11 [==============================] - 1s 70ms/step - loss: 0.5110 - accuracy: 0.7945 - val_loss: 0.7499 - val_accuracy: 0.7280\n",
      "Epoch 52/100\n",
      "11/11 [==============================] - 1s 73ms/step - loss: 0.4884 - accuracy: 0.8105 - val_loss: 0.7674 - val_accuracy: 0.7360\n",
      "Epoch 53/100\n",
      "11/11 [==============================] - 1s 71ms/step - loss: 0.4369 - accuracy: 0.8382 - val_loss: 0.7056 - val_accuracy: 0.7440\n",
      "Epoch 54/100\n",
      "11/11 [==============================] - 1s 75ms/step - loss: 0.3838 - accuracy: 0.8717 - val_loss: 0.6871 - val_accuracy: 0.7680\n",
      "Epoch 55/100\n",
      "11/11 [==============================] - 1s 69ms/step - loss: 0.4660 - accuracy: 0.8294 - val_loss: 0.6880 - val_accuracy: 0.7720\n",
      "Epoch 56/100\n",
      "11/11 [==============================] - 1s 67ms/step - loss: 0.4433 - accuracy: 0.8426 - val_loss: 0.7471 - val_accuracy: 0.7480\n",
      "Epoch 57/100\n",
      "11/11 [==============================] - 1s 66ms/step - loss: 0.3658 - accuracy: 0.8776 - val_loss: 0.7518 - val_accuracy: 0.7240\n",
      "Epoch 58/100\n",
      "11/11 [==============================] - 1s 72ms/step - loss: 0.3646 - accuracy: 0.8732 - val_loss: 0.7582 - val_accuracy: 0.7280\n",
      "Epoch 59/100\n",
      "11/11 [==============================] - 1s 74ms/step - loss: 0.3402 - accuracy: 0.8790 - val_loss: 0.8630 - val_accuracy: 0.7360\n",
      "Epoch 60/100\n",
      "11/11 [==============================] - 1s 73ms/step - loss: 0.3629 - accuracy: 0.8673 - val_loss: 0.8166 - val_accuracy: 0.7080\n",
      "Epoch 61/100\n",
      "11/11 [==============================] - 1s 71ms/step - loss: 0.3925 - accuracy: 0.8644 - val_loss: 0.7084 - val_accuracy: 0.7440\n",
      "Epoch 62/100\n",
      "11/11 [==============================] - 1s 69ms/step - loss: 0.3705 - accuracy: 0.8717 - val_loss: 0.9289 - val_accuracy: 0.7080\n",
      "Epoch 63/100\n",
      "11/11 [==============================] - 1s 70ms/step - loss: 0.4059 - accuracy: 0.8426 - val_loss: 0.8003 - val_accuracy: 0.7640\n",
      "Epoch 64/100\n",
      "11/11 [==============================] - 1s 66ms/step - loss: 0.3752 - accuracy: 0.8586 - val_loss: 0.8052 - val_accuracy: 0.7280\n",
      "Epoch 65/100\n",
      "11/11 [==============================] - 1s 72ms/step - loss: 0.4601 - accuracy: 0.8324 - val_loss: 0.7178 - val_accuracy: 0.7760\n",
      "Epoch 66/100\n",
      "11/11 [==============================] - 1s 70ms/step - loss: 0.4050 - accuracy: 0.8409 - val_loss: 0.8961 - val_accuracy: 0.7320\n",
      "Epoch 67/100\n",
      "11/11 [==============================] - 1s 69ms/step - loss: 0.4363 - accuracy: 0.8367 - val_loss: 0.6943 - val_accuracy: 0.7760\n",
      "Epoch 68/100\n",
      "11/11 [==============================] - 1s 71ms/step - loss: 0.3388 - accuracy: 0.8790 - val_loss: 0.8031 - val_accuracy: 0.7320\n",
      "Epoch 69/100\n",
      "11/11 [==============================] - 1s 69ms/step - loss: 0.3323 - accuracy: 0.8892 - val_loss: 0.7568 - val_accuracy: 0.7640\n",
      "Epoch 70/100\n",
      "11/11 [==============================] - 1s 71ms/step - loss: 0.2864 - accuracy: 0.9009 - val_loss: 0.6841 - val_accuracy: 0.7800\n",
      "Epoch 71/100\n",
      "11/11 [==============================] - 1s 71ms/step - loss: 0.3014 - accuracy: 0.8878 - val_loss: 0.6004 - val_accuracy: 0.8080\n",
      "Epoch 72/100\n",
      "11/11 [==============================] - 1s 70ms/step - loss: 0.2712 - accuracy: 0.9067 - val_loss: 0.6146 - val_accuracy: 0.8080\n",
      "Epoch 73/100\n",
      "11/11 [==============================] - 1s 71ms/step - loss: 0.2488 - accuracy: 0.9082 - val_loss: 0.6809 - val_accuracy: 0.7800\n",
      "Epoch 74/100\n",
      "11/11 [==============================] - 1s 70ms/step - loss: 0.2626 - accuracy: 0.9169 - val_loss: 0.6467 - val_accuracy: 0.8040\n",
      "Epoch 75/100\n",
      "11/11 [==============================] - 1s 68ms/step - loss: 0.2929 - accuracy: 0.8878 - val_loss: 0.7844 - val_accuracy: 0.7920\n",
      "Epoch 76/100\n",
      "11/11 [==============================] - 1s 65ms/step - loss: 0.2894 - accuracy: 0.8965 - val_loss: 0.5819 - val_accuracy: 0.8120\n",
      "Epoch 77/100\n",
      "11/11 [==============================] - 1s 65ms/step - loss: 0.2684 - accuracy: 0.9140 - val_loss: 0.6132 - val_accuracy: 0.8280\n",
      "Epoch 78/100\n",
      "11/11 [==============================] - 1s 71ms/step - loss: 0.2349 - accuracy: 0.9140 - val_loss: 0.5906 - val_accuracy: 0.8560\n",
      "Epoch 79/100\n",
      "11/11 [==============================] - 1s 69ms/step - loss: 0.2367 - accuracy: 0.9198 - val_loss: 0.5455 - val_accuracy: 0.8280\n",
      "Epoch 80/100\n",
      "11/11 [==============================] - 1s 69ms/step - loss: 0.2086 - accuracy: 0.9332 - val_loss: 0.4493 - val_accuracy: 0.8640\n",
      "Epoch 81/100\n",
      "11/11 [==============================] - 1s 67ms/step - loss: 0.2317 - accuracy: 0.9111 - val_loss: 0.6303 - val_accuracy: 0.8280\n",
      "Epoch 82/100\n",
      "11/11 [==============================] - 1s 69ms/step - loss: 0.2531 - accuracy: 0.9082 - val_loss: 0.4578 - val_accuracy: 0.8440\n",
      "Epoch 83/100\n",
      "11/11 [==============================] - 1s 74ms/step - loss: 0.2188 - accuracy: 0.9184 - val_loss: 0.5903 - val_accuracy: 0.8080\n",
      "Epoch 84/100\n",
      "11/11 [==============================] - 1s 65ms/step - loss: 0.2000 - accuracy: 0.9388 - val_loss: 0.6799 - val_accuracy: 0.8440\n",
      "Epoch 85/100\n",
      "11/11 [==============================] - 1s 72ms/step - loss: 0.2008 - accuracy: 0.9276 - val_loss: 0.5458 - val_accuracy: 0.8400\n",
      "Epoch 86/100\n",
      "11/11 [==============================] - 1s 66ms/step - loss: 0.2163 - accuracy: 0.9213 - val_loss: 0.4749 - val_accuracy: 0.8640\n",
      "Epoch 87/100\n",
      "11/11 [==============================] - 1s 69ms/step - loss: 0.1971 - accuracy: 0.9286 - val_loss: 0.5352 - val_accuracy: 0.8640\n",
      "Epoch 88/100\n",
      "11/11 [==============================] - 1s 74ms/step - loss: 0.1995 - accuracy: 0.9329 - val_loss: 0.5330 - val_accuracy: 0.8760\n",
      "Epoch 89/100\n",
      "11/11 [==============================] - 1s 66ms/step - loss: 0.1258 - accuracy: 0.9592 - val_loss: 0.5360 - val_accuracy: 0.8680\n",
      "Epoch 90/100\n",
      "11/11 [==============================] - 1s 70ms/step - loss: 0.1538 - accuracy: 0.9431 - val_loss: 0.5270 - val_accuracy: 0.8600\n",
      "Epoch 91/100\n",
      "11/11 [==============================] - 1s 67ms/step - loss: 0.1571 - accuracy: 0.9344 - val_loss: 0.5108 - val_accuracy: 0.8760\n",
      "Epoch 92/100\n",
      "11/11 [==============================] - 1s 72ms/step - loss: 0.1704 - accuracy: 0.9503 - val_loss: 0.6008 - val_accuracy: 0.8480\n",
      "Epoch 93/100\n",
      "11/11 [==============================] - 1s 66ms/step - loss: 0.1848 - accuracy: 0.9329 - val_loss: 0.5983 - val_accuracy: 0.8360\n",
      "Epoch 94/100\n",
      "11/11 [==============================] - 1s 67ms/step - loss: 0.1834 - accuracy: 0.9315 - val_loss: 0.4989 - val_accuracy: 0.8800\n",
      "Epoch 95/100\n",
      "11/11 [==============================] - 1s 69ms/step - loss: 0.1529 - accuracy: 0.9504 - val_loss: 0.6224 - val_accuracy: 0.8320\n",
      "Epoch 96/100\n",
      "11/11 [==============================] - 1s 67ms/step - loss: 0.1748 - accuracy: 0.9417 - val_loss: 0.5153 - val_accuracy: 0.8880\n",
      "Epoch 97/100\n",
      "11/11 [==============================] - 1s 67ms/step - loss: 0.1460 - accuracy: 0.9606 - val_loss: 0.5555 - val_accuracy: 0.8600\n",
      "Epoch 98/100\n",
      "11/11 [==============================] - 1s 67ms/step - loss: 0.1516 - accuracy: 0.9431 - val_loss: 0.4567 - val_accuracy: 0.8800\n",
      "Epoch 99/100\n",
      "11/11 [==============================] - 1s 74ms/step - loss: 0.1525 - accuracy: 0.9461 - val_loss: 0.4361 - val_accuracy: 0.8800\n",
      "Epoch 100/100\n",
      "11/11 [==============================] - 1s 71ms/step - loss: 0.1166 - accuracy: 0.9577 - val_loss: 0.5212 - val_accuracy: 0.8800\n"
     ]
    }
   ],
   "source": [
    "# train the network\n",
    "print(\"[INFO] training network...\")\n",
    "H = model.fit(x=aug.flow(trainX, trainY, batch_size=64),\n",
    "              validation_data=(testX, testY), \n",
    "              steps_per_epoch=len(trainX) // 64,\n",
    "              epochs=100, \n",
    "              verbose=1)"
   ]
  },
  {
   "cell_type": "code",
   "execution_count": 22,
   "id": "6d3e1039-c37c-4424-8568-555684db9c13",
   "metadata": {},
   "outputs": [
    {
     "data": {
      "image/png": "[encoded data removed]",
      "text/plain": [
       "<Figure size 640x480 with 1 Axes>"
      ]
     },
     "metadata": {},
     "output_type": "display_data"
    }
   ],
   "source": [
    "plot_acc(H,100)"
   ]
  },
  {
   "cell_type": "code",
   "execution_count": 23,
   "id": "9f55e6a2-9f07-4152-9635-90312330c513",
   "metadata": {},
   "outputs": [
    {
     "data": {
      "image/png": "[encoded data removed]",
      "text/plain": [
       "<Figure size 640x480 with 1 Axes>"
      ]
     },
     "metadata": {},
     "output_type": "display_data"
    }
   ],
   "source": [
    "plot_loss(H,100)"
   ]
  }
 ],
 "metadata": {
  "kernelspec": {
   "display_name": "Python 3 (ipykernel)",
   "language": "python",
   "name": "python3"
  },
  "language_info": {
   "codemirror_mode": {
    "name": "ipython",
    "version": 3
   },
   "file_extension": ".py",
   "mimetype": "text/x-python",
   "name": "python",
   "nbconvert_exporter": "python",
   "pygments_lexer": "ipython3",
   "version": "3.11.9"
  }
 },
 "nbformat": 4,
 "nbformat_minor": 5
}
